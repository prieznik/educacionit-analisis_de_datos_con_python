{
 "cells": [
  {
   "cell_type": "markdown",
   "id": "4498c1ce-bf28-48ca-97ad-d89b41ecc255",
   "metadata": {},
   "source": [
    "<div style=\"text-align:center; background-color:#f9f9f9; padding:20px; border-radius:10px;\">\n",
    "\n",
    "<img src=\"delitos_caba_banner.jpg\" \n",
    "     style=\"width:100%; max-height:250px; object-fit:cover; border-radius:10px;\">\n",
    "\n",
    "<h1 style=\"margin-top:20px; font-size:32px;\">Final Project - Paloma Rieznik</h1>\n",
    "<h2 style=\"color:#555; font-weight:normal;\">Crime Analysis in Buenos Aires</h2>\n",
    "\n",
    "<p style=\"max-width:700px; margin:auto; font-size:16px; color:#333;\">\n",
    "This project explores crime patterns in Buenos Aires, applying data analysis and visualization techniques learned during the <b>Data Analysis with Python</b> course at \"Educación IT\".\n",
    "</p>\n",
    "\n",
    "</div>\n"
   ]
  },
  {
   "cell_type": "markdown",
   "id": "9c2e6d1c-98d3-4529-a228-818418ad2d57",
   "metadata": {},
   "source": [
    "**Importing Libraries**  \n",
    "Load the Python libraries needed for the analysis."
   ]
  },
  {
   "cell_type": "code",
   "execution_count": 2,
   "id": "cfd46fed-cf1b-4310-ab6f-63fd2b6860a0",
   "metadata": {},
   "outputs": [],
   "source": [
    "import numpy as np\n",
    "import pandas as pd\n",
    "import matplotlib as plt"
   ]
  },
  {
   "cell_type": "markdown",
   "id": "7825b208-319b-417f-8278-cc3bd0c5e6f6",
   "metadata": {},
   "source": [
    "**Loading the Dataset**  \n",
    "Read the CSV file and create the DataFrame."
   ]
  },
  {
   "cell_type": "code",
   "execution_count": 7,
   "id": "fb55f6b3-42c9-4d52-898c-0e0caf8ade69",
   "metadata": {},
   "outputs": [],
   "source": [
    "dfDelitos = pd.read_csv(\"delitos2019.csv\")"
   ]
  },
  {
   "cell_type": "markdown",
   "id": "a4c2d2e2-e087-42ec-b63a-282ecb096260",
   "metadata": {},
   "source": [
    "**Dataset Overview**  \n",
    "Use `info()` to explore the structure and data types in the DataFrame."
   ]
  },
  {
   "cell_type": "code",
   "execution_count": 10,
   "id": "47be6799-f0fd-4b8a-ae4f-12bb8eb0e3db",
   "metadata": {},
   "outputs": [
    {
     "name": "stdout",
     "output_type": "stream",
     "text": [
      "<class 'pandas.core.frame.DataFrame'>\n",
      "RangeIndex: 117661 entries, 0 to 117660\n",
      "Data columns (total 10 columns):\n",
      " #   Column               Non-Null Count   Dtype  \n",
      "---  ------               --------------   -----  \n",
      " 0   id                   117661 non-null  int64  \n",
      " 1   fecha                117661 non-null  object \n",
      " 2   franja_horaria       117661 non-null  object \n",
      " 3   tipo_delito          117661 non-null  object \n",
      " 4   subtipo_delito       11676 non-null   object \n",
      " 5   cantidad_registrada  117661 non-null  float64\n",
      " 6   comuna               117064 non-null  float64\n",
      " 7   barrio               117064 non-null  object \n",
      " 8   lat                  117064 non-null  float64\n",
      " 9   long                 117064 non-null  float64\n",
      "dtypes: float64(4), int64(1), object(5)\n",
      "memory usage: 9.0+ MB\n"
     ]
    }
   ],
   "source": [
    "dfDelitos.info()"
   ]
  },
  {
   "cell_type": "markdown",
   "id": "3ffa5d2a-788a-4870-8f55-af9b49e9ac59",
   "metadata": {},
   "source": [
    "**Total Number of Reported Crimes (2019)**  \n",
    "Calculate the overall number of crimes reported during the year."
   ]
  },
  {
   "cell_type": "code",
   "execution_count": 17,
   "id": "822679d4-2cb2-4ce6-b88f-5535a114e57f",
   "metadata": {},
   "outputs": [
    {
     "name": "stdout",
     "output_type": "stream",
     "text": [
      "Overall Crimes: 117661\n"
     ]
    }
   ],
   "source": [
    "overallCrimes = int(dfDelitos[\"id\"].count())\n",
    "print(f\"Overall Crimes: {overallCrimes}\")"
   ]
  },
  {
   "cell_type": "markdown",
   "id": "26454f2f-29d0-4712-90fc-dc008e1930f2",
   "metadata": {},
   "source": [
    "**Top 5 Neighborhoods with the Highest Crime Rates**  \n",
    "Identify the neighborhoods with the largest number of reported crimes."
   ]
  },
  {
   "cell_type": "code",
   "execution_count": 24,
   "id": "857d2ae2-fa6f-4b95-83ef-369854c7f49b",
   "metadata": {},
   "outputs": [
    {
     "name": "stdout",
     "output_type": "stream",
     "text": [
      "barrio\n",
      "Palermo        9559\n",
      "Balvanera      9239\n",
      "San Nicolás    6246\n",
      "Recoleta       5589\n",
      "Flores         5518\n",
      "dtype: int64\n"
     ]
    },
    {
     "data": {
      "text/html": [
       "<div>\n",
       "<style scoped>\n",
       "    .dataframe tbody tr th:only-of-type {\n",
       "        vertical-align: middle;\n",
       "    }\n",
       "\n",
       "    .dataframe tbody tr th {\n",
       "        vertical-align: top;\n",
       "    }\n",
       "\n",
       "    .dataframe thead th {\n",
       "        text-align: right;\n",
       "    }\n",
       "</style>\n",
       "<table border=\"1\" class=\"dataframe\">\n",
       "  <thead>\n",
       "    <tr style=\"text-align: right;\">\n",
       "      <th></th>\n",
       "      <th>barrio</th>\n",
       "      <th>cantidad</th>\n",
       "    </tr>\n",
       "  </thead>\n",
       "  <tbody>\n",
       "    <tr>\n",
       "      <th>0</th>\n",
       "      <td>Palermo</td>\n",
       "      <td>9559</td>\n",
       "    </tr>\n",
       "    <tr>\n",
       "      <th>1</th>\n",
       "      <td>Balvanera</td>\n",
       "      <td>9239</td>\n",
       "    </tr>\n",
       "    <tr>\n",
       "      <th>2</th>\n",
       "      <td>San Nicolás</td>\n",
       "      <td>6246</td>\n",
       "    </tr>\n",
       "    <tr>\n",
       "      <th>3</th>\n",
       "      <td>Recoleta</td>\n",
       "      <td>5589</td>\n",
       "    </tr>\n",
       "    <tr>\n",
       "      <th>4</th>\n",
       "      <td>Flores</td>\n",
       "      <td>5518</td>\n",
       "    </tr>\n",
       "  </tbody>\n",
       "</table>\n",
       "</div>"
      ],
      "text/plain": [
       "        barrio  cantidad\n",
       "0      Palermo      9559\n",
       "1    Balvanera      9239\n",
       "2  San Nicolás      6246\n",
       "3     Recoleta      5589\n",
       "4       Flores      5518"
      ]
     },
     "execution_count": 24,
     "metadata": {},
     "output_type": "execute_result"
    }
   ],
   "source": [
    "top5 = dfDelitos.groupby(\"barrio\").size().sort_values(ascending=False).head(5)\n",
    "print(top5)\n",
    "\n",
    "top5_df = (dfDelitos.groupby(\"barrio\").size().reset_index(name=\"cantidad\").sort_values(\"cantidad\", ascending=False).head(5)).reset_index(drop=True) \n",
    "top5_df"
   ]
  },
  {
   "cell_type": "markdown",
   "id": "d1a3fe89-37db-475b-8343-5ef862e5327b",
   "metadata": {},
   "source": [
    "**Top 5 Neighborhoods with the Lowest Crime Rates**  \n",
    "Identify the neighborhoods with the smallest number of reported crimes."
   ]
  },
  {
   "cell_type": "code",
   "execution_count": 20,
   "id": "ccbd05d2-44d3-488a-86f8-bf5efe485276",
   "metadata": {},
   "outputs": [
    {
     "name": "stdout",
     "output_type": "stream",
     "text": [
      "barrio\n",
      "Puerto Madero    283\n",
      "Villa Real       343\n",
      "Versalles        392\n",
      "Agronomía        454\n",
      "Coghlan          476\n",
      "dtype: int64\n"
     ]
    }
   ],
   "source": [
    "top5 = dfDelitos.groupby(\"barrio\").size().sort_values(ascending=True).head(5)\n",
    "print(top5)"
   ]
  },
  {
   "cell_type": "markdown",
   "id": "b887392a-2d14-48cb-aeda-ca78f2868751",
   "metadata": {},
   "source": [
    "**Crime Frequency by Time of Day**  \n",
    "Analyze crime by time slot, sorted in descending order from the most to the least problematic."
   ]
  },
  {
   "cell_type": "code",
   "execution_count": null,
   "id": "28753327-6043-4457-895b-1413481adce8",
   "metadata": {},
   "outputs": [],
   "source": []
  },
  {
   "cell_type": "code",
   "execution_count": null,
   "id": "6edb3598-2e76-4b96-bd88-fd8840acd5b5",
   "metadata": {},
   "outputs": [],
   "source": []
  },
  {
   "cell_type": "code",
   "execution_count": null,
   "id": "0ed26068-d0ac-4642-ac41-784db36a83ae",
   "metadata": {},
   "outputs": [],
   "source": []
  },
  {
   "cell_type": "code",
   "execution_count": null,
   "id": "b41a32ef-e117-4dab-aadd-9fbe5505299c",
   "metadata": {},
   "outputs": [],
   "source": []
  },
  {
   "cell_type": "code",
   "execution_count": null,
   "id": "27460c09-c55b-43b4-8de9-88de2dbd6470",
   "metadata": {},
   "outputs": [],
   "source": []
  },
  {
   "cell_type": "code",
   "execution_count": null,
   "id": "ed10f27f-0889-41db-8ce7-544df1548d8f",
   "metadata": {},
   "outputs": [],
   "source": []
  }
 ],
 "metadata": {
  "kernelspec": {
   "display_name": "Python 3 (ipykernel)",
   "language": "python",
   "name": "python3"
  },
  "language_info": {
   "codemirror_mode": {
    "name": "ipython",
    "version": 3
   },
   "file_extension": ".py",
   "mimetype": "text/x-python",
   "name": "python",
   "nbconvert_exporter": "python",
   "pygments_lexer": "ipython3",
   "version": "3.13.5"
  }
 },
 "nbformat": 4,
 "nbformat_minor": 5
}
