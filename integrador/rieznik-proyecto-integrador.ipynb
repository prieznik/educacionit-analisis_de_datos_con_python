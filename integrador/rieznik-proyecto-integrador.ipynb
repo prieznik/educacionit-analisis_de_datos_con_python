{
 "cells": [
  {
   "cell_type": "markdown",
   "id": "4498c1ce-bf28-48ca-97ad-d89b41ecc255",
   "metadata": {},
   "source": [
    "# Ejercicio Integrador\n",
    "## Delitos en la Ciudad de Buenos Aires\n",
    "### El presente trabajo tiene por objetivo analizar la problemática de delitos en CABA utilizando las herramientas aprendidas en el curso Análisis de datos con Python de Educación IT\n",
    "\n",
    "<p align=\"center\">\n",
    "  <img src=\"delitos_caba_banner.jpg\" width=\"300\">\n",
    "</p>"
   ]
  },
  {
   "cell_type": "code",
   "execution_count": 5,
   "id": "cfd46fed-cf1b-4310-ab6f-63fd2b6860a0",
   "metadata": {},
   "outputs": [],
   "source": [
    "# importar librerias\n",
    "import numpy as np\n",
    "import pandas as pd\n",
    "import matplotlib as plt"
   ]
  },
  {
   "cell_type": "code",
   "execution_count": null,
   "id": "fb55f6b3-42c9-4d52-898c-0e0caf8ade69",
   "metadata": {},
   "outputs": [],
   "source": []
  },
  {
   "cell_type": "code",
   "execution_count": null,
   "id": "47be6799-f0fd-4b8a-ae4f-12bb8eb0e3db",
   "metadata": {},
   "outputs": [],
   "source": []
  }
 ],
 "metadata": {
  "kernelspec": {
   "display_name": "Python 3 (ipykernel)",
   "language": "python",
   "name": "python3"
  },
  "language_info": {
   "codemirror_mode": {
    "name": "ipython",
    "version": 3
   },
   "file_extension": ".py",
   "mimetype": "text/x-python",
   "name": "python",
   "nbconvert_exporter": "python",
   "pygments_lexer": "ipython3",
   "version": "3.13.5"
  }
 },
 "nbformat": 4,
 "nbformat_minor": 5
}
