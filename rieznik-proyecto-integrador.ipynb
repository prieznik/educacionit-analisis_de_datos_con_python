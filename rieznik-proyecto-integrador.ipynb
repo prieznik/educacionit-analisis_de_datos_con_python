{
 "cells": [
  {
   "cell_type": "markdown",
   "id": "a250ecea-0e74-46de-be54-9aa49e63101b",
   "metadata": {},
   "source": [
    "# Ejercicio Integrador\n",
    "## Delitos en la Ciudad de Buenos Aires\n",
    "### El presente trabajo tiene por objetivo analizar la problemática de delitos en CABA utilizando las herramientas aprendidas en el curso Análisis de datos con Python de Educación IT"
   ]
  },
  {
   "cell_type": "code",
   "execution_count": 3,
   "id": "aed51582-7a2c-4aff-b16e-c6934a5f976b",
   "metadata": {
    "scrolled": true
   },
   "outputs": [
    {
     "ename": "ModuleNotFoundError",
     "evalue": "No module named 'numpy'",
     "output_type": "error",
     "traceback": [
      "\u001b[31m---------------------------------------------------------------------------\u001b[39m",
      "\u001b[31mModuleNotFoundError\u001b[39m                       Traceback (most recent call last)",
      "\u001b[36mCell\u001b[39m\u001b[36m \u001b[39m\u001b[32mIn[3]\u001b[39m\u001b[32m, line 2\u001b[39m\n\u001b[32m      1\u001b[39m \u001b[38;5;66;03m# importar librerias\u001b[39;00m\n\u001b[32m----> \u001b[39m\u001b[32m2\u001b[39m \u001b[38;5;28;01mimport\u001b[39;00m\u001b[38;5;250m \u001b[39m\u001b[34;01mnumpy\u001b[39;00m\u001b[38;5;250m \u001b[39m\u001b[38;5;28;01mas\u001b[39;00m\u001b[38;5;250m \u001b[39m\u001b[34;01mnp\u001b[39;00m\n\u001b[32m      3\u001b[39m \u001b[38;5;28;01mimport\u001b[39;00m\u001b[38;5;250m \u001b[39m\u001b[34;01mpandas\u001b[39;00m\u001b[38;5;250m \u001b[39m\u001b[38;5;28;01mas\u001b[39;00m\u001b[38;5;250m \u001b[39m\u001b[34;01mpd\u001b[39;00m\n\u001b[32m      4\u001b[39m \u001b[38;5;28;01mimport\u001b[39;00m\u001b[38;5;250m \u001b[39m\u001b[34;01mmatplotlib\u001b[39;00m\u001b[38;5;250m \u001b[39m\u001b[38;5;28;01mas\u001b[39;00m\u001b[38;5;250m \u001b[39m\u001b[34;01mplt\u001b[39;00m\n",
      "\u001b[31mModuleNotFoundError\u001b[39m: No module named 'numpy'"
     ]
    }
   ],
   "source": [
    "# importar librerias\n",
    "import numpy as np\n",
    "import pandas as pd\n",
    "import matplotlib as plt"
   ]
  },
  {
   "cell_type": "code",
   "execution_count": 2,
   "id": "e313893a-0c1d-49a3-a062-8d78cef91795",
   "metadata": {},
   "outputs": [
    {
     "ename": "NameError",
     "evalue": "name 'pd' is not defined",
     "output_type": "error",
     "traceback": [
      "\u001b[31m---------------------------------------------------------------------------\u001b[39m",
      "\u001b[31mNameError\u001b[39m                                 Traceback (most recent call last)",
      "\u001b[36mCell\u001b[39m\u001b[36m \u001b[39m\u001b[32mIn[2]\u001b[39m\u001b[32m, line 2\u001b[39m\n\u001b[32m      1\u001b[39m \u001b[38;5;66;03m# insertar imagen \u001b[39;00m\n\u001b[32m----> \u001b[39m\u001b[32m2\u001b[39m banner_image= \u001b[43mpd\u001b[49m.read_csv(\u001b[33mr\u001b[39m\u001b[33m\"\u001b[39m\u001b[33mC:\u001b[39m\u001b[33m\\\u001b[39m\u001b[33mUsers\u001b[39m\u001b[33m\\\u001b[39m\u001b[33mhp\u001b[39m\u001b[33m\\\u001b[39m\u001b[33manaconda_projects\u001b[39m\u001b[33m\\\u001b[39m\u001b[33meducacionit_python\u001b[39m\u001b[33m\\\u001b[39m\u001b[33mdelitos_caba_banner.jpg\u001b[39m\u001b[33m\"\u001b[39m)\n\u001b[32m      3\u001b[39m banner_image\n",
      "\u001b[31mNameError\u001b[39m: name 'pd' is not defined"
     ]
    }
   ],
   "source": [
    "# insertar imagen \n",
    "banner_image= pd.read_csv(r\"C:\\Users\\hp\\anaconda_projects\\educacionit_python\\delitos_caba_banner.jpg\")\n",
    "banner_image\n",
    "\n",
    "<p align=\"center\">\n",
    "    <img src=attachment: alt=\"image\" width=\"300\"/>\n",
    "</p>"
   ]
  }
 ],
 "metadata": {
  "kernelspec": {
   "display_name": "Python 3 (ipykernel)",
   "language": "python",
   "name": "python3"
  },
  "language_info": {
   "codemirror_mode": {
    "name": "ipython",
    "version": 3
   },
   "file_extension": ".py",
   "mimetype": "text/x-python",
   "name": "python",
   "nbconvert_exporter": "python",
   "pygments_lexer": "ipython3",
   "version": "3.13.5"
  }
 },
 "nbformat": 4,
 "nbformat_minor": 5
}
