{
 "cells": [
  {
   "cell_type": "markdown",
   "id": "3a5fc174-4d9b-4110-a41b-4e4e0fa12e5c",
   "metadata": {},
   "source": [
    "# Desafio 3\n",
    "## Ejercicio 1\n",
    "### A. Construir arrays a partir de una lista simple y una lista anidada usando tipos de datos numericos distintos para cada una."
   ]
  },
  {
   "cell_type": "code",
   "execution_count": 8,
   "id": "204ad1c9-19ad-4931-9755-d408b645243b",
   "metadata": {},
   "outputs": [
    {
     "name": "stdout",
     "output_type": "stream",
     "text": [
      "[1.1 1.2 1.3 1.4]\n",
      "[[1 2 3 4]\n",
      " [5 6 7 8]]\n"
     ]
    }
   ],
   "source": [
    "import numpy as np\n",
    "import random\n",
    "\n",
    "arr_simple = np.array([1.1,1.2,1.3,1.4], dtype= np.float64)\n",
    "print(arr_simple)\n",
    "\n",
    "arr_anidado = np.array([[1,2,3,4], [5,6,7,8]], dtype= np.int8)\n",
    "print(arr_anidado)\n"
   ]
  },
  {
   "cell_type": "markdown",
   "id": "7c1cc73d-d877-4c3c-b141-b74b1a5ed63b",
   "metadata": {},
   "source": [
    "### B. Construir un array lineal de 36 elementos. Cambiar el shape para que tenga: 3 filas y 12 columnas; 4 columnas"
   ]
  },
  {
   "cell_type": "code",
   "execution_count": 12,
   "id": "9975d357-a870-4eeb-ad94-d003daa2c56e",
   "metadata": {},
   "outputs": [
    {
     "name": "stdout",
     "output_type": "stream",
     "text": [
      "[ 5  2  9  9  8  7  5  3 10  6  1  5  7  9  9 10  7  8  8  8  2  7  5  2\n",
      "  7  5  4  9  2  4  7  4  8  4  4  6]\n"
     ]
    }
   ],
   "source": [
    "arr_B = np.array([random.randint(1,10) for n in range(36)], dtype= np.int8)\n",
    "print(arr_B)"
   ]
  },
  {
   "cell_type": "code",
   "execution_count": 20,
   "id": "fe832dd0-dafd-4589-b06d-fcecd3302337",
   "metadata": {},
   "outputs": [
    {
     "name": "stdout",
     "output_type": "stream",
     "text": [
      "[[ 5  2  9  9  8  7  5  3 10  6  1  5]\n",
      " [ 7  9  9 10  7  8  8  8  2  7  5  2]\n",
      " [ 7  5  4  9  2  4  7  4  8  4  4  6]]\n"
     ]
    }
   ],
   "source": [
    "arr_B_3x12 = arr_B.reshape(3,12)\n",
    "print(arr_B_3x12)"
   ]
  },
  {
   "cell_type": "code",
   "execution_count": 23,
   "id": "c0cfc892-cab8-4eaa-860b-c15cea0e42a6",
   "metadata": {},
   "outputs": [
    {
     "name": "stdout",
     "output_type": "stream",
     "text": [
      "[[ 5  2  9  9]\n",
      " [ 8  7  5  3]\n",
      " [10  6  1  5]\n",
      " [ 7  9  9 10]\n",
      " [ 7  8  8  8]\n",
      " [ 2  7  5  2]\n",
      " [ 7  5  4  9]\n",
      " [ 2  4  7  4]\n",
      " [ 8  4  4  6]]\n"
     ]
    }
   ],
   "source": [
    "arr_B_9x4 = arr_B.reshape(9,4)\n",
    "print(arr_B_9x4)"
   ]
  },
  {
   "cell_type": "markdown",
   "id": "b2c6e242-1be7-4533-a1b8-8d6871f2be96",
   "metadata": {},
   "source": [
    "## Ejercicio 2\n",
    "### Dado un vector de pesos(kg) y otro vector alturas(metros), calcular el indice de masa corporal general (un vector imc)"
   ]
  },
  {
   "cell_type": "code",
   "execution_count": 25,
   "id": "2bdfe7b1-f12e-4cd2-8d04-aab65235fac7",
   "metadata": {},
   "outputs": [
    {
     "name": "stdout",
     "output_type": "stream",
     "text": [
      "[31.25       38.52941176 49.55555556 57.14285714]\n"
     ]
    }
   ],
   "source": [
    "pesos = np.array([50,65.5,89.2,100], dtype=np.float64)\n",
    "alturas = np.array([1.6,1.7,1.8,1.75], dtype=np.float64)\n",
    "\n",
    "imc = pesos/alturas\n",
    "print(imc)"
   ]
  },
  {
   "cell_type": "markdown",
   "id": "cc0ecd05-738d-468b-997d-64931d3b001f",
   "metadata": {},
   "source": [
    "## Ejercicio 3\n",
    "### 1. Crear un vector con diez numeros, todos ceros"
   ]
  },
  {
   "cell_type": "code",
   "execution_count": 26,
   "id": "e63164d0-9cd2-489a-9ee3-a21a0761da24",
   "metadata": {},
   "outputs": [
    {
     "name": "stdout",
     "output_type": "stream",
     "text": [
      "[0 0 0 0 0 0 0 0 0 0]\n"
     ]
    }
   ],
   "source": [
    "diez_ceros = np.array([0 for n in range(10)], dtype=np.int8)\n",
    "print(diez_ceros)"
   ]
  },
  {
   "cell_type": "markdown",
   "id": "0fa7d7c7-f2c2-4fd6-864f-f8393ca974c8",
   "metadata": {},
   "source": [
    "### 2. Crear un vector con diez numeros al azar"
   ]
  },
  {
   "cell_type": "code",
   "execution_count": 27,
   "id": "01c2ade1-006c-4b9b-b09d-08530a3e939e",
   "metadata": {},
   "outputs": [
    {
     "name": "stdout",
     "output_type": "stream",
     "text": [
      "[ 5  2  9 10  8 10  4  3  8  5]\n"
     ]
    }
   ],
   "source": [
    "diez_azar = np.array([random.randint(1,10) for n in range(10)], dtype=np.int8)\n",
    "print(diez_azar)"
   ]
  },
  {
   "cell_type": "markdown",
   "id": "dfc649ed-d1bd-4b5c-9ebe-2f5ceba86cd8",
   "metadata": {},
   "source": [
    "### 3. Crear una matriz de 2x3 y multiplicarla por su transpuesta"
   ]
  },
  {
   "cell_type": "code",
   "execution_count": 34,
   "id": "006d3ceb-0870-459d-801f-7fe71169472a",
   "metadata": {},
   "outputs": [
    {
     "ename": "ValueError",
     "evalue": "operands could not be broadcast together with shapes (2,3) (3,2) ",
     "output_type": "error",
     "traceback": [
      "\u001b[31m---------------------------------------------------------------------------\u001b[39m",
      "\u001b[31mValueError\u001b[39m                                Traceback (most recent call last)",
      "\u001b[36mCell\u001b[39m\u001b[36m \u001b[39m\u001b[32mIn[34]\u001b[39m\u001b[32m, line 4\u001b[39m\n\u001b[32m      1\u001b[39m matriz_2x3 = np.array([[\u001b[32m2\u001b[39m,\u001b[32m4\u001b[39m,\u001b[32m6\u001b[39m],[\u001b[32m8\u001b[39m,\u001b[32m10\u001b[39m,\u001b[32m12\u001b[39m]], dtype=np.int8)\n\u001b[32m      2\u001b[39m matriz_2x3_transpuesta = matriz_2x3.T\n\u001b[32m----> \u001b[39m\u001b[32m4\u001b[39m matrices_multiplicadas = \u001b[43mmatriz_2x3\u001b[49m\u001b[43m \u001b[49m\u001b[43m*\u001b[49m\u001b[43m \u001b[49m\u001b[43mmatriz_2x3_transpuesta\u001b[49m\n\u001b[32m      5\u001b[39m \u001b[38;5;28mprint\u001b[39m(matrices_multiplicadas)\n",
      "\u001b[31mValueError\u001b[39m: operands could not be broadcast together with shapes (2,3) (3,2) "
     ]
    }
   ],
   "source": [
    "matriz_2x3 = np.array([[2,4,6],[8,10,12]], dtype=np.int8)\n",
    "matriz_2x3_transpuesta = matriz_2x3.T\n",
    "\n",
    "matrices_multiplicadas = matriz_2x3 * matriz_2x3_transpuesta\n",
    "print(matrices_multiplicadas)"
   ]
  },
  {
   "cell_type": "code",
   "execution_count": null,
   "id": "dad252fa-275d-4a7b-85f9-1e024323910c",
   "metadata": {},
   "outputs": [],
   "source": []
  }
 ],
 "metadata": {
  "kernelspec": {
   "display_name": "Python 3 (ipykernel)",
   "language": "python",
   "name": "python3"
  },
  "language_info": {
   "codemirror_mode": {
    "name": "ipython",
    "version": 3
   },
   "file_extension": ".py",
   "mimetype": "text/x-python",
   "name": "python",
   "nbconvert_exporter": "python",
   "pygments_lexer": "ipython3",
   "version": "3.13.5"
  }
 },
 "nbformat": 4,
 "nbformat_minor": 5
}
