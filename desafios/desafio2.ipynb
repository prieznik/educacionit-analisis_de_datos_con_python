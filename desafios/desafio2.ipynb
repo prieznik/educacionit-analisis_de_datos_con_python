{
 "cells": [
  {
   "cell_type": "markdown",
   "id": "d42136b0-e4e0-4c99-a0b5-32aec2a72d8d",
   "metadata": {},
   "source": [
    "# Desafío 2\n",
    "## Ejercicio 1\n",
    "### Construir una funcion que dado un iterable, devuelva un diccionario con las frecuencias de sus elementos"
   ]
  },
  {
   "cell_type": "code",
   "execution_count": 3,
   "id": "1fd1128a-5eb7-4b4c-a00b-0fc7dfd701ed",
   "metadata": {},
   "outputs": [
    {
     "name": "stdout",
     "output_type": "stream",
     "text": [
      "{'zapato': 1, 'luna': 3, 'caracol': 1, 'mesa': 2}\n"
     ]
    }
   ],
   "source": [
    "def element_frequency(iterable):\n",
    "    frequencies= {}\n",
    "    for e in iterable: \n",
    "        if e in frequencies:\n",
    "            frequencies[e]+=1\n",
    "        else: \n",
    "            frequencies[e]=1       \n",
    "    return frequencies\n",
    "\n",
    "palabras= ['zapato','luna','caracol','mesa','luna','luna','mesa']\n",
    "frecuencia_palabras= element_frequency(palabras)\n",
    "print(frecuencia_palabras)"
   ]
  },
  {
   "cell_type": "markdown",
   "id": "f87451e6-a97e-4a7d-bab2-18b9f16c5d1d",
   "metadata": {},
   "source": [
    "## Ejercicio 2\n",
    "### Construir una funcion que se llame suma_acotados. Esta funcion debe tomar un numero arbitrario de argumentos posicionales y un keyword argument llamado cota que por defecto debe tener valor None. Si el argumento cota es None, debe sumar todos los numeros, si no debe sumar los numeros que se encuentren entre -cota y cota"
   ]
  },
  {
   "cell_type": "code",
   "execution_count": 8,
   "id": "d60a7b7a-3abd-46b9-a412-fc5d43b1d8fa",
   "metadata": {},
   "outputs": [
    {
     "name": "stdout",
     "output_type": "stream",
     "text": [
      "6\n"
     ]
    }
   ],
   "source": [
    "def suma_acotados(*args, cota=None):\n",
    "    suma=0\n",
    "    if cota:\n",
    "        suma= sum(n for n in args if -cota <= n <= cota)\n",
    "    else:\n",
    "        suma= sum(arg)\n",
    "    return suma\n",
    "\n",
    "suma1= suma_acotados(1,2,3,4,cota=3)\n",
    "print(suma1)\n",
    "    "
   ]
  },
  {
   "cell_type": "markdown",
   "id": "39c39120-b0ef-481a-9944-27268f20afc7",
   "metadata": {},
   "source": [
    "## Ejercicio 3\n",
    "### Supongamos que tenemos una lista de tuplas en donde cada una contiene el nombre de un producto y el precio correspondiente. Ordenar productos segun su precio de mayor a menor usando sorted, map y funciones lambda"
   ]
  },
  {
   "cell_type": "code",
   "execution_count": 26,
   "id": "119450e8-86f9-4c99-af0a-3e962ed26da8",
   "metadata": {},
   "outputs": [
    {
     "name": "stdout",
     "output_type": "stream",
     "text": [
      "[('Zapatillas', 5200), ('Campera', 3500), ('Mochila', 2400), ('Jean', 1600)]\n",
      "[5200, 3500, 2400, 1600]\n"
     ]
    }
   ],
   "source": [
    "catalogo= [(\"Campera\",3500),(\"Mochila\",2400),(\"Zapatillas\",5200),(\"Jean\",1600)]\n",
    "\n",
    "catalogo_ordenado= sorted(catalogo, key= lambda tupla: tupla[1], reverse=True)\n",
    "solo_precios= list(map(lambda tupla: tupla[1], catalogo_ordenado))\n",
    "\n",
    "print(catalogo_ordenado)\n",
    "print(solo_precios)\n"
   ]
  },
  {
   "cell_type": "code",
   "execution_count": null,
   "id": "c4cb5baf-4583-43d6-8908-193e7eaf942b",
   "metadata": {},
   "outputs": [],
   "source": []
  }
 ],
 "metadata": {
  "kernelspec": {
   "display_name": "Python 3 (ipykernel)",
   "language": "python",
   "name": "python3"
  },
  "language_info": {
   "codemirror_mode": {
    "name": "ipython",
    "version": 3
   },
   "file_extension": ".py",
   "mimetype": "text/x-python",
   "name": "python",
   "nbconvert_exporter": "python",
   "pygments_lexer": "ipython3",
   "version": "3.13.5"
  }
 },
 "nbformat": 4,
 "nbformat_minor": 5
}
